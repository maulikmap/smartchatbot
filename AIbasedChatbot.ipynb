{
  "cells": [
    {
      "cell_type": "markdown",
      "metadata": {
        "id": "view-in-github",
        "colab_type": "text"
      },
      "source": [
        "<a href=\"https://colab.research.google.com/github/maulikmap/smartchatbot/blob/main/AIbasedChatbot.ipynb\" target=\"_parent\"><img src=\"https://colab.research.google.com/assets/colab-badge.svg\" alt=\"Open In Colab\"/></a>"
      ]
    },
    {
      "cell_type": "markdown",
      "metadata": {
        "id": "oL0VZVhR25UN"
      },
      "source": [
        "#AI based smart ChatBot"
      ]
    },
    {
      "cell_type": "code",
      "execution_count": null,
      "metadata": {
        "id": "YS0VsThN3blS"
      },
      "outputs": [],
      "source": [
        "pip install nltk"
      ]
    },
    {
      "cell_type": "code",
      "execution_count": null,
      "metadata": {
        "id": "TzEbzjDuNTB2"
      },
      "outputs": [],
      "source": [
        "pip install newspaper3k"
      ]
    },
    {
      "cell_type": "code",
      "execution_count": null,
      "metadata": {
        "id": "VErWRSPX3yDJ"
      },
      "outputs": [],
      "source": [
        "#import the Libraries\n",
        "from newspaper import Article\n",
        "import random\n",
        "import string\n",
        "import nltk\n",
        "from sklearn.feature_extraction.text import CountVectorizer\n",
        "from sklearn.metrics.pairwise import cosine_similarity\n",
        "import numpy as np\n",
        "import pandas as pd\n",
        "import warnings\n",
        "warnings.filterwarnings('ignore')\n"
      ]
    },
    {
      "cell_type": "code",
      "execution_count": null,
      "metadata": {
        "colab": {
          "base_uri": "https://localhost:8080/"
        },
        "id": "eMCe828h4k0U",
        "outputId": "89be37bb-f4af-4f1e-e1d0-a04797d4b3f3"
      },
      "outputs": [
        {
          "output_type": "execute_result",
          "data": {
            "text/plain": [
              "True"
            ]
          },
          "metadata": {},
          "execution_count": 12
        }
      ],
      "source": [
        "#download the punkt packages\n",
        "nltk.download('punkt', quiet=True)"
      ]
    },
    {
      "cell_type": "code",
      "source": [
        "df = pd.read_csv(\"/content/drive/MyDrive/Colab Notebooks/Datafiles/smartchatbot_urls.csv\", sep = \",\", encoding = \"Latin-1\")\n",
        "corpus = ''\n",
        "for n in df.index:\n",
        "  article_url = df.loc[n, \"urls\"]\n",
        "  article = Article(article_url)\n",
        "  article.download()\n",
        "  try:\n",
        "    article.parse()\n",
        "    article.nlp()\n",
        "    corpus = corpus+ \".\" +article.text\n",
        "  except:\n",
        "    print(\"403 Client Error\")\n",
        "  \n",
        "\n",
        "print(corpus)\n"
      ],
      "metadata": {
        "id": "D7u2hR04edvQ",
        "colab": {
          "base_uri": "https://localhost:8080/"
        },
        "outputId": "d37e67f6-7515-4d49-9f42-493ce6c8f1e2"
      },
      "execution_count": null,
      "outputs": [
        {
          "output_type": "stream",
          "name": "stdout",
          "text": [
            ".Children can be infected with the virus that causes COVID-19 and can get sick with COVID-19. While most children with COVID-19 have mild symptoms or they may have no symptoms at all (“asymptomatic”), children can still become very ill and even die from COVID-19. Babies younger than 1 and children with certain underlying medical conditions are more likely to become very ill from COVID-19. Some children have developed a rare but serious disease that is linked to COVID-19 called multisystem inflammatory syndrome (MIS-C).\n",
            "\n",
            "For more information about how people get sick with the virus that causes COVID-19, see How COVID-19 Spreads.\n"
          ]
        }
      ]
    },
    {
      "cell_type": "code",
      "execution_count": null,
      "metadata": {
        "id": "7bGC-OjQ8jl3"
      },
      "outputs": [],
      "source": [
        "#Tokenization\n",
        "text = corpus\n",
        "sentence_list = nltk.sent_tokenize(text)\n",
        "print(sentence_list)"
      ]
    },
    {
      "cell_type": "code",
      "execution_count": null,
      "metadata": {
        "id": "0gsnufg09MP3"
      },
      "outputs": [],
      "source": [
        "#function to return a random response\n",
        "\n",
        "def greeting_response(text):\n",
        "  text = text.lower()\n",
        "\n",
        "  #bot greeeting response\n",
        "  bot_greetings = ['howdy', 'hi', 'hey', 'hello', 'hola']\n",
        "  #users greetings\n",
        "  user_greetings = ['howdy', 'hi', 'hey', 'hello', 'hola', 'greetings', 'wassup']\n",
        "\n",
        "  for words in text.split():\n",
        "    if words in user_greetings:\n",
        "      return random.choice(bot_greetings)"
      ]
    },
    {
      "cell_type": "code",
      "execution_count": null,
      "metadata": {
        "id": "aFfgFFrM_vKe"
      },
      "outputs": [],
      "source": [
        "def index_sort(list_var):\n",
        "  length = len(list_var)\n",
        "  list_index = list(range(0,length))\n",
        "  x= list_var\n",
        "  for i in range(length):\n",
        "    for j in range(length):\n",
        "      if x[list_index[i]] > x[list_index[j]]:\n",
        "           #swapping\n",
        "           temp = list_index[i]\n",
        "           list_index[i] = list_index[j]\n",
        "           list_index[j] = temp\n",
        "  return list_index"
      ]
    },
    {
      "cell_type": "code",
      "source": [
        "user_input = 'Hello'\n",
        "sentence_list.append(user_input)\n",
        "bot_response = ''\n",
        "count_matrics = CountVectorizer().fit_transform(sentence_list)\n",
        "similarity_scores = cosine_similarity(count_matrics[-1], count_matrics)\n",
        "similarity_scores_list = similarity_scores.flatten()\n",
        "index = index_sort(similarity_scores_list)\n",
        "print(index)"
      ],
      "metadata": {
        "colab": {
          "base_uri": "https://localhost:8080/"
        },
        "id": "R6lOMt1EAZhz",
        "outputId": "0fc1b94d-a465-41aa-e222-a9b635077685"
      },
      "execution_count": null,
      "outputs": [
        {
          "output_type": "stream",
          "name": "stdout",
          "text": [
            "[33, 34, 2, 3, 4, 5, 6, 7, 8, 9, 10, 11, 12, 13, 14, 15, 16, 17, 18, 19, 20, 21, 22, 23, 24, 25, 26, 27, 28, 29, 30, 31, 32, 0, 1]\n"
          ]
        }
      ]
    },
    {
      "cell_type": "code",
      "execution_count": null,
      "metadata": {
        "id": "o4JYhEtT-eBS"
      },
      "outputs": [],
      "source": [
        "#Create the bot response\n",
        "def bot_response(user_input):\n",
        "  user_input = user_input.lower()\n",
        "  sentence_list.append(user_input)\n",
        "  bot_response = ''\n",
        "  count_matrics = CountVectorizer().fit_transform(sentence_list)\n",
        "  similarity_scores = cosine_similarity(count_matrics[-1], count_matrics)\n",
        "  similarity_scores_list = similarity_scores.flatten()\n",
        "  index = index_sort(similarity_scores_list)\n",
        "  index = index[1:]\n",
        "  response_flag = 0\n",
        "\n",
        "  j = 0\n",
        "  for i in range(len(index)):\n",
        "    if similarity_scores_list[index[i]] > 0.0:\n",
        "      bot_response = bot_response+ ' ' +sentence_list[index[i]]\n",
        "      response_flag = 1\n",
        "      j = j+1\n",
        "    if j>2:\n",
        "      break\n",
        "\n",
        "  if response_flag == 0:\n",
        "    bot_response = bot_response+ ' ' + \"Sorry, I can't answer your question. you can connect with chat support agent using...(link)\"\n",
        "\n",
        "  sentence_list.remove(user_input)\n",
        "\n",
        "  return bot_response"
      ]
    },
    {
      "cell_type": "code",
      "execution_count": null,
      "metadata": {
        "id": "noP9YJ7DIT-T"
      },
      "outputs": [],
      "source": [
        "#start the Chat\n",
        "\n",
        "print(\"SmartChatBot: I am Smart ChatBot. I will answers your query about Amazon Website/App. To break \")\n",
        "\n",
        "exit_intent = ['exit', 'see you later', 'bye', 'quit', 'break']\n",
        "\n",
        "while(True):\n",
        "  user_input = input()\n",
        "  if user_input.lower() in exit_intent:\n",
        "    print(\"SmartChatBot: Have a nice day. see you later.\")\n",
        "    break\n",
        "  else:\n",
        "    if greeting_response(user_input) != None:\n",
        "      print('SmartChatBot: '+ greeting_response(user_input))\n",
        "    else:\n",
        "      print('SmartChatBot: '+ bot_response(user_input))\n"
      ]
    }
  ],
  "metadata": {
    "colab": {
      "collapsed_sections": [],
      "name": "AIbasedChatbot.ipynb",
      "provenance": [],
      "mount_file_id": "1l1b4w1rA7cGouAzB1VUPs02sAJm3-Z_N",
      "authorship_tag": "ABX9TyMrA7sa5vXIVNHrPk6EnicH",
      "include_colab_link": true
    },
    "kernelspec": {
      "display_name": "Python 3",
      "name": "python3"
    },
    "language_info": {
      "name": "python"
    }
  },
  "nbformat": 4,
  "nbformat_minor": 0
}